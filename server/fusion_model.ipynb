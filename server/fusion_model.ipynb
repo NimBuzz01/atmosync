{
 "cells": [
  {
   "cell_type": "code",
   "execution_count": 1,
   "metadata": {},
   "outputs": [],
   "source": [
    "# Standard library imports\n",
    "import os\n",
    "import glob\n",
    "\n",
    "# Third-party library imports\n",
    "import numpy as np\n",
    "import matplotlib.pyplot as plt\n",
    "import seaborn as sns\n",
    "import cv2\n",
    "import librosa\n",
    "import librosa.display\n",
    "import moviepy.editor as mp\n",
    "from PIL import Image\n",
    "from sklearn.model_selection import train_test_split\n",
    "from sklearn.preprocessing import LabelEncoder\n",
    "from sklearn.metrics import confusion_matrix\n",
    "import keras\n",
    "from keras.preprocessing import image\n",
    "from keras.utils import to_categorical\n",
    "from keras.callbacks import EarlyStopping\n",
    "from keras.models import Model\n",
    "from keras.layers import Dense, Dropout, GlobalAveragePooling2D,GlobalAveragePooling3D, Input, Conv3D, MaxPooling3D, Dropout, concatenate\n",
    "from keras.applications import ResNet50V2, EfficientNetB3\n",
    "from sklearn import metrics\n",
    "import shutil\n",
    "\n",
    "# Import EfficientNet preprocess_input function\n",
    "from keras.applications.efficientnet import preprocess_input as preprocess_input_efficientnet\n",
    "# Import ResNetV2 preprocess_input function\n",
    "from keras.applications.resnet_v2 import preprocess_input as preprocess_input_resnet_v2\n"
   ]
  },
  {
   "cell_type": "code",
   "execution_count": 2,
   "metadata": {},
   "outputs": [],
   "source": [
    "# Define constants\n",
    "DATASET_PATH = 'dataset'\n",
    "FRAME_PATH = 'data/frames'\n",
    "SPECTROGRAM_PATH = 'data/spectrograms'\n",
    "MFCC_PATH = 'data/mfccs'\n",
    "CLASSES = ['Quiet and Calm', 'Lively and Energetic', 'Cozy and Intimate', 'Busy and Bustling']\n",
    "FRAME_INPUT_SHAPE = (10, 224, 224, 3)  # 10 frames, each frame of shape 224x224x3\n",
    "SPECTROGRAM_INPUT_SHAPE = (224, 224, 3)\n",
    "MFCC_INPUT_SHAPE = (224, 224, 3)\n",
    "BATCH_SIZE = 16\n",
    "EPOCHS = 20\n",
    "TEST_SIZE = 0.3"
   ]
  },
  {
   "cell_type": "code",
   "execution_count": 3,
   "metadata": {},
   "outputs": [],
   "source": [
    "# Create directories if they do not exist\n",
    "os.makedirs(FRAME_PATH, exist_ok=True)\n",
    "os.makedirs(SPECTROGRAM_PATH, exist_ok=True)\n",
    "os.makedirs(MFCC_PATH, exist_ok=True)"
   ]
  },
  {
   "cell_type": "code",
   "execution_count": 4,
   "metadata": {},
   "outputs": [],
   "source": [
    "def extract_frames(video_path, frame_path):\n",
    "    video = cv2.VideoCapture(video_path)\n",
    "    frames = []\n",
    "    last_frame = None\n",
    "    fps = int(video.get(cv2.CAP_PROP_FPS))  # Get the frames per second of the video\n",
    "\n",
    "    while video.isOpened() and len(frames) < 10:  # Only process the first 10 frames\n",
    "        ret, frame = video.read()\n",
    "        if not ret:\n",
    "            break\n",
    "        if int(video.get(cv2.CAP_PROP_POS_FRAMES)) % fps == 0:  # Only process a frame if it's a second mark\n",
    "            frame = cv2.cvtColor(frame, cv2.COLOR_BGR2RGB)  # Convert BGR to RGB\n",
    "            frame = frame[:, :, :3]  # Ensure there are only 3 channels\n",
    "            frame = cv2.resize(frame, (224, 224))  # Resize the frame to desired dimensions\n",
    "            frames.append(frame)\n",
    "            last_frame = frame\n",
    "\n",
    "    video.release()\n",
    "\n",
    "    # Fill up with previous frames if less than 10 frames are created\n",
    "    while len(frames) < 10 and last_frame is not None:\n",
    "        frames.append(last_frame)\n",
    "\n",
    "    # Save each frame as a .png file\n",
    "    for i, frame in enumerate(frames):\n",
    "        image = Image.fromarray(frame)\n",
    "        image.save(f\"{frame_path}_{i}.png\")\n"
   ]
  },
  {
   "cell_type": "code",
   "execution_count": 5,
   "metadata": {},
   "outputs": [],
   "source": [
    "def extract_spectrogram_and_mfcc(audio_file, spectrogram_file, mfcc_file, num_mfcc=13):\n",
    "    y, sr = librosa.load(audio_file)\n",
    "\n",
    "    # Create the spectrogram\n",
    "    fig, ax = plt.subplots()\n",
    "    ms = librosa.feature.melspectrogram(y=y, sr=sr)\n",
    "    log_ms = librosa.power_to_db(ms, ref=np.max)\n",
    "    librosa.display.specshow(log_ms, sr=sr, ax=ax)\n",
    "    fig.savefig(spectrogram_file)\n",
    "    plt.close(fig)\n",
    "\n",
    "    # Extract MFCCs\n",
    "    mfccs = librosa.feature.mfcc(y=y, sr=sr, n_mfcc=num_mfcc)\n",
    "\n",
    "    # Save the MFCCs as a PNG file\n",
    "    fig, ax = plt.subplots()\n",
    "    img = librosa.display.specshow(mfccs, x_axis='time', ax=ax)\n",
    "    fig.colorbar(img, ax=ax)\n",
    "    fig.savefig(mfcc_file)\n",
    "    plt.close(fig)"
   ]
  },
  {
   "cell_type": "code",
   "execution_count": 6,
   "metadata": {},
   "outputs": [],
   "source": [
    "def extract_and_save_data():\n",
    "    for ambiance in CLASSES:\n",
    "        video_files = glob.glob(os.path.join(DATASET_PATH, ambiance, '*.mp4'))\n",
    "\n",
    "        if not os.path.exists(os.path.join(FRAME_PATH, ambiance)):\n",
    "                os.makedirs(os.path.join(FRAME_PATH, ambiance))\n",
    "\n",
    "        if not os.path.exists(os.path.join(SPECTROGRAM_PATH, ambiance)):\n",
    "            os.makedirs(os.path.join(SPECTROGRAM_PATH, ambiance))\n",
    "\n",
    "        if not os.path.exists(os.path.join(MFCC_PATH, ambiance)):\n",
    "            os.makedirs(os.path.join(MFCC_PATH, ambiance))\n",
    "\n",
    "        for video_file in video_files:\n",
    "            frame_path = os.path.join(FRAME_PATH, ambiance, os.path.basename(video_file).replace('.mp4', ''))\n",
    "            spectrogram_path = os.path.join(SPECTROGRAM_PATH, ambiance, os.path.basename(video_file).replace('.mp4', ''))\n",
    "            mfcc_path = os.path.join(MFCC_PATH, ambiance, os.path.basename(video_file).replace('.mp4', ''))\n",
    "\n",
    "            # If frames do not exist, extract them\n",
    "            if not os.path.exists(f\"{frame_path}_9.png\"):\n",
    "                extract_frames(video_file, frame_path)\n",
    "\n",
    "            # If spectrogram and MFCC do not exist, extract them\n",
    "            if not os.path.exists(f\"{spectrogram_path}.png\") or not os.path.exists(f\"{mfcc_path}.png\"):\n",
    "                audio_file = os.path.join(video_file.replace('.mp4', '.wav'))\n",
    "                audio = mp.VideoFileClip(video_file).audio\n",
    "                audio.write_audiofile(audio_file, verbose=False)\n",
    "                extract_spectrogram_and_mfcc(audio_file, spectrogram_path, mfcc_path)\n",
    "                os.remove(audio_file)"
   ]
  },
  {
   "cell_type": "code",
   "execution_count": 7,
   "metadata": {},
   "outputs": [],
   "source": [
    "def load_data_into_arrays():\n",
    "    X_frames, X_spectrograms, X_mfccs = [], [], []\n",
    "    y = []\n",
    "\n",
    "    label_encoder = LabelEncoder()\n",
    "\n",
    "    for ambiance in CLASSES:\n",
    "        frame_files = glob.glob(os.path.join(FRAME_PATH, ambiance, '*_0.png'))\n",
    "        spectrogram_files = glob.glob(os.path.join(SPECTROGRAM_PATH, ambiance, '*.png'))\n",
    "        mfcc_files = glob.glob(os.path.join(MFCC_PATH, ambiance, '*.png'))\n",
    "\n",
    "        print(f\"Found {len(frame_files)} frames, {len(spectrogram_files)} spectrograms, and {len(mfcc_files)} MFCCs for {ambiance} ambiance\")\n",
    "\n",
    "        for frame_file in frame_files:\n",
    "            frames = []\n",
    "            for i in range(10):\n",
    "                frame_idx = min(i, len(frame_files) - 1)\n",
    "                frame = Image.open(f\"{frame_file.replace('_0.png', '')}_{frame_idx}.png\")\n",
    "                frame = frame.resize((224, 224))\n",
    "                frame = np.array(frame)\n",
    "                frames.append(frame)\n",
    "            X_frames.append(frames)\n",
    "            y.append(ambiance)\n",
    "\n",
    "        # Load spectrograms\n",
    "        for spectrogram_file in spectrogram_files:\n",
    "            spectrogram = image.load_img(spectrogram_file, target_size=(224, 224))\n",
    "            spectrogram = image.img_to_array(spectrogram)\n",
    "            spectrogram = preprocess_input_resnet_v2(spectrogram)\n",
    "            X_spectrograms.append(spectrogram)\n",
    "\n",
    "        # Load MFCCs\n",
    "        for mfcc_file in mfcc_files:\n",
    "            mfcc = image.load_img(mfcc_file, target_size=(224, 224))\n",
    "            mfcc = image.img_to_array(mfcc)\n",
    "            mfcc = preprocess_input_efficientnet(mfcc)\n",
    "            X_mfccs.append(mfcc)\n",
    "\n",
    "    # Convert the lists to numpy arrays\n",
    "    X_frames = np.array(X_frames)\n",
    "    X_spectrograms = np.array(X_spectrograms)\n",
    "    X_mfccs = np.array(X_mfccs)\n",
    "\n",
    "    # Split the labels\n",
    "    y = label_encoder.fit_transform(y)\n",
    "    y = to_categorical(y, num_classes=len(CLASSES))\n",
    "\n",
    "    # Split the data into training and testing sets\n",
    "    X_frames_train, X_frames_test, X_spectrograms_train, X_spectrograms_test, X_mfccs_train, X_mfccs_test, y_train, y_test = train_test_split(\n",
    "        X_frames, X_spectrograms, X_mfccs, y, test_size=TEST_SIZE, random_state=42\n",
    "    )\n",
    "\n",
    "    return X_frames_train, X_frames_test, X_spectrograms_train, X_spectrograms_test, X_mfccs_train, X_mfccs_test, y_train, y_test\n"
   ]
  },
  {
   "cell_type": "code",
   "execution_count": null,
   "metadata": {},
   "outputs": [],
   "source": [
    "def create_image_features(input_frames):\n",
    "    # Frames model\n",
    "    conv1_frames = Conv3D(32, kernel_size=(3, 3, 3), activation='relu', padding='same')(input_frames)\n",
    "    pool1_frames = MaxPooling3D(pool_size=(2, 2, 2))(conv1_frames)\n",
    "    conv2_frames = Conv3D(64, kernel_size=(3, 3, 3), activation='relu', padding='same')(pool1_frames)\n",
    "    pool2_frames = MaxPooling3D(pool_size=(2, 2, 2))(conv2_frames)\n",
    "    conv3_frames = Conv3D(128, kernel_size=(3, 3, 3), activation='relu', padding='same')(pool2_frames)\n",
    "    pool3_frames = MaxPooling3D(pool_size=(2, 2, 2))(conv3_frames)\n",
    "    global_pool_frames = GlobalAveragePooling3D()(pool3_frames)\n",
    "\n",
    "    return global_pool_frames"
   ]
  },
  {
   "cell_type": "code",
   "execution_count": null,
   "metadata": {},
   "outputs": [],
   "source": [
    "def create_spectrogram_features(input_spectrograms):\n",
    "    # Create ResNet50V2 base model for spectrograms\n",
    "    base_model_spectrograms = ResNet50V2(weights='imagenet', include_top=False, input_shape=SPECTROGRAM_INPUT_SHAPE)\n",
    "    base_model_spectrograms.trainable = False\n",
    "    spectrogram_features = base_model_spectrograms(input_spectrograms)\n",
    "    spectrogram_features = GlobalAveragePooling2D()(spectrogram_features)\n",
    "\n",
    "    return spectrogram_features"
   ]
  },
  {
   "cell_type": "code",
   "execution_count": null,
   "metadata": {},
   "outputs": [],
   "source": [
    "def create_mfcc_features(input_mfccs):\n",
    "    # Create EfficientB3 base model for MFCCs\n",
    "    base_model_mfccs = EfficientNetB3(weights='imagenet', include_top=False, input_shape=MFCC_INPUT_SHAPE)\n",
    "    base_model_mfccs.trainable = False\n",
    "    mfcc_features = base_model_mfccs(input_mfccs)\n",
    "    mfcc_features = GlobalAveragePooling2D()(mfcc_features)\n",
    "\n",
    "    return mfcc_features"
   ]
  },
  {
   "cell_type": "code",
   "execution_count": 8,
   "metadata": {},
   "outputs": [],
   "source": [
    "def create_model():\n",
    "    FRAME_INPUT_SHAPE = (10, 224, 224, 3)\n",
    "    SPECTROGRAM_INPUT_SHAPE = (224, 224, 3)\n",
    "    MFCC_INPUT_SHAPE = (224, 224, 3)\n",
    "    \n",
    "    # Define input layers for frames, spectrograms, and MFCCs\n",
    "    input_frames = Input(shape=FRAME_INPUT_SHAPE)\n",
    "    input_spectrograms = Input(shape=SPECTROGRAM_INPUT_SHAPE)\n",
    "    input_mfccs = Input(shape=MFCC_INPUT_SHAPE)\n",
    "\n",
    "    image_features = create_image_features(input_frames)\n",
    "    spectrogram_features = create_spectrogram_features(input_spectrograms)\n",
    "    mfcc_features = create_mfcc_features(input_mfccs)\n",
    "\n",
    "    # Concatenate features from all inputs\n",
    "    concatenated_features = concatenate([image_features, spectrogram_features, mfcc_features])\n",
    "\n",
    "    # Add dense layers for classification\n",
    "    dense_layer = Dense(256, activation='relu')(concatenated_features)\n",
    "    dropout_layer = Dropout(0.5)(dense_layer)\n",
    "    output_layer = Dense(len(CLASSES), activation='softmax')(dropout_layer)\n",
    "\n",
    "    # Create the model\n",
    "    model = Model(inputs=[input_frames, input_spectrograms, input_mfccs], outputs=output_layer)\n",
    "\n",
    "    # Compile the model\n",
    "    model.compile(optimizer='adam', loss='categorical_crossentropy', metrics=['accuracy'])\n",
    "\n",
    "    return model"
   ]
  },
  {
   "cell_type": "code",
   "execution_count": 9,
   "metadata": {},
   "outputs": [],
   "source": [
    "def train_model(model, X_frames_train, X_frames_test, X_spectrograms_train, X_spectrograms_test, X_mfccs_train, X_mfccs_test, y_train, y_test):\n",
    "\n",
    "    early_stopping = EarlyStopping(monitor='val_loss', patience=5, restore_best_weights=True)\n",
    "\n",
    "    history = model.fit(\n",
    "        [X_frames_train, X_spectrograms_train, X_mfccs_train], y_train,\n",
    "        batch_size=BATCH_SIZE,\n",
    "        epochs=EPOCHS,\n",
    "        validation_data=([X_frames_test, X_spectrograms_test, X_mfccs_test], y_test),\n",
    "        callbacks=[early_stopping])\n",
    "\n",
    "    model.save('fusion_model.keras')\n",
    "    return history"
   ]
  },
  {
   "cell_type": "code",
   "execution_count": 10,
   "metadata": {},
   "outputs": [],
   "source": [
    "# Preprocess data\n",
    "extract_and_save_data()"
   ]
  },
  {
   "cell_type": "code",
   "execution_count": 11,
   "metadata": {},
   "outputs": [
    {
     "name": "stdout",
     "output_type": "stream",
     "text": [
      "Found 829 frames, 829 spectrograms, and 829 MFCCs for Quiet and Calm ambiance\n",
      "Found 931 frames, 931 spectrograms, and 931 MFCCs for Lively and Energetic ambiance\n",
      "Found 1018 frames, 1018 spectrograms, and 1018 MFCCs for Cozy and Intimate ambiance\n",
      "Found 708 frames, 708 spectrograms, and 708 MFCCs for Busy and Bustling ambiance\n"
     ]
    }
   ],
   "source": [
    "X_frames_train, X_frames_test, X_spectrograms_train, X_spectrograms_test, X_mfccs_train, X_mfccs_test, y_train, y_test = load_data_into_arrays()"
   ]
  },
  {
   "cell_type": "code",
   "execution_count": 12,
   "metadata": {},
   "outputs": [
    {
     "name": "stdout",
     "output_type": "stream",
     "text": [
      "Training with 2440 frames, 2440 spectrograms, and 2440 MFCCs\n",
      "Testing with 1046 frames, 1046 spectrograms, and 1046 MFCCs\n"
     ]
    }
   ],
   "source": [
    "print(f\"Training with {len(X_frames_train)} frames, {len(X_spectrograms_train)} spectrograms, and {len(X_mfccs_train)} MFCCs\")\n",
    "print(f\"Testing with {len(X_frames_test)} frames, {len(X_spectrograms_test)} spectrograms, and {len(X_mfccs_test)} MFCCs\")\n",
    "model = create_model()"
   ]
  },
  {
   "cell_type": "code",
   "execution_count": 13,
   "metadata": {},
   "outputs": [
    {
     "name": "stdout",
     "output_type": "stream",
     "text": [
      "Epoch 1/20\n",
      "\u001b[1m153/153\u001b[0m \u001b[32m━━━━━━━━━━━━━━━━━━━━\u001b[0m\u001b[37m\u001b[0m \u001b[1m596s\u001b[0m 4s/step - accuracy: 0.4664 - loss: 2.5864 - val_accuracy: 0.7409 - val_loss: 0.6773\n",
      "Epoch 2/20\n",
      "\u001b[1m153/153\u001b[0m \u001b[32m━━━━━━━━━━━━━━━━━━━━\u001b[0m\u001b[37m\u001b[0m \u001b[1m566s\u001b[0m 4s/step - accuracy: 0.7064 - loss: 0.7398 - val_accuracy: 0.7849 - val_loss: 0.5528\n",
      "Epoch 3/20\n",
      "\u001b[1m153/153\u001b[0m \u001b[32m━━━━━━━━━━━━━━━━━━━━\u001b[0m\u001b[37m\u001b[0m \u001b[1m565s\u001b[0m 4s/step - accuracy: 0.7903 - loss: 0.5440 - val_accuracy: 0.8098 - val_loss: 0.4335\n",
      "Epoch 4/20\n",
      "\u001b[1m153/153\u001b[0m \u001b[32m━━━━━━━━━━━━━━━━━━━━\u001b[0m\u001b[37m\u001b[0m \u001b[1m562s\u001b[0m 4s/step - accuracy: 0.8238 - loss: 0.4499 - val_accuracy: 0.8480 - val_loss: 0.3748\n",
      "Epoch 5/20\n",
      "\u001b[1m153/153\u001b[0m \u001b[32m━━━━━━━━━━━━━━━━━━━━\u001b[0m\u001b[37m\u001b[0m \u001b[1m562s\u001b[0m 4s/step - accuracy: 0.8263 - loss: 0.4114 - val_accuracy: 0.8690 - val_loss: 0.3195\n",
      "Epoch 6/20\n",
      "\u001b[1m153/153\u001b[0m \u001b[32m━━━━━━━━━━━━━━━━━━━━\u001b[0m\u001b[37m\u001b[0m \u001b[1m562s\u001b[0m 4s/step - accuracy: 0.8583 - loss: 0.3680 - val_accuracy: 0.8633 - val_loss: 0.3379\n",
      "Epoch 7/20\n",
      "\u001b[1m153/153\u001b[0m \u001b[32m━━━━━━━━━━━━━━━━━━━━\u001b[0m\u001b[37m\u001b[0m \u001b[1m562s\u001b[0m 4s/step - accuracy: 0.8804 - loss: 0.3079 - val_accuracy: 0.9054 - val_loss: 0.2631\n",
      "Epoch 8/20\n",
      "\u001b[1m153/153\u001b[0m \u001b[32m━━━━━━━━━━━━━━━━━━━━\u001b[0m\u001b[37m\u001b[0m \u001b[1m561s\u001b[0m 4s/step - accuracy: 0.9079 - loss: 0.2514 - val_accuracy: 0.9130 - val_loss: 0.2285\n",
      "Epoch 9/20\n",
      "\u001b[1m153/153\u001b[0m \u001b[32m━━━━━━━━━━━━━━━━━━━━\u001b[0m\u001b[37m\u001b[0m \u001b[1m562s\u001b[0m 4s/step - accuracy: 0.9306 - loss: 0.1855 - val_accuracy: 0.9273 - val_loss: 0.1856\n",
      "Epoch 10/20\n",
      "\u001b[1m153/153\u001b[0m \u001b[32m━━━━━━━━━━━━━━━━━━━━\u001b[0m\u001b[37m\u001b[0m \u001b[1m562s\u001b[0m 4s/step - accuracy: 0.9357 - loss: 0.1678 - val_accuracy: 0.9340 - val_loss: 0.1845\n",
      "Epoch 11/20\n",
      "\u001b[1m153/153\u001b[0m \u001b[32m━━━━━━━━━━━━━━━━━━━━\u001b[0m\u001b[37m\u001b[0m \u001b[1m563s\u001b[0m 4s/step - accuracy: 0.9203 - loss: 0.2128 - val_accuracy: 0.9446 - val_loss: 0.1668\n",
      "Epoch 12/20\n",
      "\u001b[1m153/153\u001b[0m \u001b[32m━━━━━━━━━━━━━━━━━━━━\u001b[0m\u001b[37m\u001b[0m \u001b[1m561s\u001b[0m 4s/step - accuracy: 0.9484 - loss: 0.1348 - val_accuracy: 0.9560 - val_loss: 0.1177\n",
      "Epoch 13/20\n",
      "\u001b[1m153/153\u001b[0m \u001b[32m━━━━━━━━━━━━━━━━━━━━\u001b[0m\u001b[37m\u001b[0m \u001b[1m561s\u001b[0m 4s/step - accuracy: 0.9675 - loss: 0.1000 - val_accuracy: 0.9646 - val_loss: 0.0967\n",
      "Epoch 14/20\n",
      "\u001b[1m153/153\u001b[0m \u001b[32m━━━━━━━━━━━━━━━━━━━━\u001b[0m\u001b[37m\u001b[0m \u001b[1m562s\u001b[0m 4s/step - accuracy: 0.9616 - loss: 0.1039 - val_accuracy: 0.9723 - val_loss: 0.0770\n",
      "Epoch 15/20\n",
      "\u001b[1m153/153\u001b[0m \u001b[32m━━━━━━━━━━━━━━━━━━━━\u001b[0m\u001b[37m\u001b[0m \u001b[1m562s\u001b[0m 4s/step - accuracy: 0.9466 - loss: 0.2122 - val_accuracy: 0.9379 - val_loss: 0.1794\n",
      "Epoch 16/20\n",
      "\u001b[1m153/153\u001b[0m \u001b[32m━━━━━━━━━━━━━━━━━━━━\u001b[0m\u001b[37m\u001b[0m \u001b[1m561s\u001b[0m 4s/step - accuracy: 0.9314 - loss: 0.1818 - val_accuracy: 0.9522 - val_loss: 0.1297\n",
      "Epoch 17/20\n",
      "\u001b[1m153/153\u001b[0m \u001b[32m━━━━━━━━━━━━━━━━━━━━\u001b[0m\u001b[37m\u001b[0m \u001b[1m562s\u001b[0m 4s/step - accuracy: 0.9621 - loss: 0.1087 - val_accuracy: 0.9618 - val_loss: 0.1217\n",
      "Epoch 18/20\n",
      "\u001b[1m153/153\u001b[0m \u001b[32m━━━━━━━━━━━━━━━━━━━━\u001b[0m\u001b[37m\u001b[0m \u001b[1m562s\u001b[0m 4s/step - accuracy: 0.9558 - loss: 0.1207 - val_accuracy: 0.9713 - val_loss: 0.0848\n",
      "Epoch 19/20\n",
      "\u001b[1m153/153\u001b[0m \u001b[32m━━━━━━━━━━━━━━━━━━━━\u001b[0m\u001b[37m\u001b[0m \u001b[1m561s\u001b[0m 4s/step - accuracy: 0.9711 - loss: 0.0757 - val_accuracy: 0.9656 - val_loss: 0.0988\n"
     ]
    }
   ],
   "source": [
    "history = train_model(model, X_frames_train, X_frames_test, X_spectrograms_train, X_spectrograms_test, X_mfccs_train, X_mfccs_test, y_train, y_test)"
   ]
  },
  {
   "cell_type": "code",
   "execution_count": 14,
   "metadata": {},
   "outputs": [
    {
     "data": {
      "image/png": "[encoded data removed]",
      "text/plain": [
       "<Figure size 1200x400 with 2 Axes>"
      ]
     },
     "metadata": {},
     "output_type": "display_data"
    }
   ],
   "source": [
    "# Plot training & validation accuracy values\n",
    "plt.figure(figsize=(12, 4))\n",
    "plt.subplot(1, 2, 1)\n",
    "plt.plot(history.history['accuracy'], label='Train')\n",
    "plt.plot(history.history['val_accuracy'], '--', label='Test')\n",
    "plt.title('Model accuracy')\n",
    "plt.ylabel('Accuracy')\n",
    "plt.xlabel('Epoch')\n",
    "plt.legend()\n",
    "\n",
    "# Plot training & validation loss values\n",
    "plt.subplot(1, 2, 2)\n",
    "plt.plot(history.history['loss'], label='Train')\n",
    "plt.plot(history.history['val_loss'], '--', label='Test')\n",
    "plt.title('Model loss')\n",
    "plt.ylabel('Loss')\n",
    "plt.xlabel('Epoch')\n",
    "plt.legend()\n",
    "plt.show()"
   ]
  },
  {
   "cell_type": "code",
   "execution_count": 15,
   "metadata": {},
   "outputs": [
    {
     "name": "stdout",
     "output_type": "stream",
     "text": [
      "\u001b[1m33/33\u001b[0m \u001b[32m━━━━━━━━━━━━━━━━━━━━\u001b[0m\u001b[37m\u001b[0m \u001b[1m92s\u001b[0m 3s/step\n",
      "y_test shape: (1046, 4)\n",
      "y_pred_classes shape: (1046,)\n",
      "y_test data type: float64\n",
      "y_pred_classes data type: int64\n"
     ]
    },
    {
     "data": {
      "image/png": "[encoded data removed]",
      "text/plain": [
       "<Figure size 800x800 with 2 Axes>"
      ]
     },
     "metadata": {},
     "output_type": "display_data"
    }
   ],
   "source": [
    "# Get the model's predictions on the test data\n",
    "y_pred = model.predict([X_frames_test, X_spectrograms_test, X_mfccs_test])\n",
    "y_pred_classes = np.argmax(y_pred, axis=1)\n",
    "\n",
    "print(\"y_test shape:\", y_test.shape)\n",
    "print(\"y_pred_classes shape:\", y_pred_classes.shape)\n",
    "print(\"y_test data type:\", y_test.dtype)\n",
    "print(\"y_pred_classes data type:\", y_pred_classes.dtype)\n",
    "\n",
    "# Reshape y_test\n",
    "y_test_labels = np.argmax(y_test, axis=1)\n",
    "\n",
    "# Convert data type to integer\n",
    "y_test_labels = y_test_labels.astype(np.int64)\n",
    "\n",
    "# Compute the confusion matrix\n",
    "cm = confusion_matrix(y_test_labels, y_pred_classes)\n",
    "\n",
    "# Plot the confusion matrix\n",
    "plt.figure(figsize=(8, 8))\n",
    "sns.heatmap(cm, annot=True, fmt='d', cmap='Blues', xticklabels=CLASSES, yticklabels=CLASSES)\n",
    "plt.title('Confusion matrix')\n",
    "plt.ylabel('True label')\n",
    "plt.xlabel('Predicted label')\n",
    "plt.show()"
   ]
  },
  {
   "cell_type": "code",
   "execution_count": 16,
   "metadata": {},
   "outputs": [],
   "source": [
    "def evaluate(true_labels, predicted_labels):\n",
    "    accuracy = metrics.accuracy_score(true_labels, predicted_labels)\n",
    "    f1_score = metrics.f1_score(true_labels, predicted_labels, average='weighted')\n",
    "    recall = metrics.recall_score(true_labels, predicted_labels, average='weighted')\n",
    "    precision = metrics.precision_score(true_labels, predicted_labels, average='weighted')\n",
    "\n",
    "    print(f'Accuracy: {accuracy}')\n",
    "    print(f'F1 Score: {f1_score}')\n",
    "    print(f'Recall: {recall}')\n",
    "    print(f'Precision: {precision}')"
   ]
  },
  {
   "cell_type": "code",
   "execution_count": 17,
   "metadata": {},
   "outputs": [
    {
     "name": "stdout",
     "output_type": "stream",
     "text": [
      "Accuracy: 0.9722753346080306\n",
      "F1 Score: 0.9722675998872412\n",
      "Recall: 0.9722753346080306\n",
      "Precision: 0.9723366551332051\n"
     ]
    }
   ],
   "source": [
    "# Convert the true labels to a 1D array of class labels\n",
    "y_test_labels = np.argmax(y_test, axis=1)\n",
    "\n",
    "# Convert the predicted labels to a 1D array\n",
    "y_pred_labels = y_pred_classes\n",
    "\n",
    "# Call the evaluate function with the modified arrays\n",
    "evaluate(y_test_labels, y_pred_labels)"
   ]
  },
  {
   "cell_type": "code",
   "execution_count": 18,
   "metadata": {},
   "outputs": [],
   "source": [
    "def preprocess_video_for_prediction(video_path, frame_path, spectrogram_path, mfcc_path):\n",
    "    # Remove previous directories if they exist\n",
    "    for path in [frame_path, spectrogram_path, mfcc_path]:\n",
    "        if os.path.exists(path):\n",
    "            shutil.rmtree(path)\n",
    "            \n",
    "    # Ensure directories for saving extracted data exist\n",
    "    os.makedirs(frame_path, exist_ok=True)\n",
    "    os.makedirs(spectrogram_path, exist_ok=True)\n",
    "    os.makedirs(mfcc_path, exist_ok=True)\n",
    "\n",
    "    frame_loc = os.path.join(frame_path, os.path.basename(video_path).replace('.mp4', ''))\n",
    "    spectrogram_loc = os.path.join(spectrogram_path, os.path.basename(video_path).replace('.mp4', ''))\n",
    "    mfcc_loc = os.path.join(mfcc_path, os.path.basename(video_path).replace('.mp4', ''))\n",
    "\n",
    "    extract_frames(video_path, frame_loc)\n",
    "    extract_spectrogram_and_mfcc(video_path, spectrogram_loc, mfcc_loc)\n",
    "\n",
    "    # Load preprocessed data\n",
    "    X_frames, X_spectrograms, X_mfccs = load_preprocessed_data(frame_path, spectrogram_path, mfcc_path)\n",
    "\n",
    "    return X_frames, X_spectrograms, X_mfccs\n",
    "\n",
    "def load_preprocessed_data(frame_path, spectrogram_path, mfcc_path):\n",
    "    X_frames, X_spectrograms, X_mfccs = [], [], []\n",
    "    # Load frames\n",
    "    frame_files = glob.glob(os.path.join(frame_path, '*.png'))\n",
    "    frames = []\n",
    "    for frame_file in frame_files:        \n",
    "        frame_path = os.path.join(frame_file)  # Construct full frame file path\n",
    "        frame = Image.open(frame_path)  # Open the frame image\n",
    "        frame = frame.resize((224, 224))\n",
    "        frame = np.array(frame)\n",
    "        frames.append(frame)\n",
    "    # Convert frames list to a numpy array and append it to X_frames\n",
    "    X_frames.append(np.array(frames))\n",
    "    # Convert X_frames to a numpy array\n",
    "    X_frames = np.array(X_frames)\n",
    "\n",
    "    # Load spectrograms\n",
    "    spectrogram_files = glob.glob(os.path.join(spectrogram_path, '*.png'))\n",
    "    X_spectrograms = []\n",
    "    for spectrogram_file in spectrogram_files:\n",
    "        spectrogram = image.load_img(spectrogram_file, target_size=(224, 224))\n",
    "        spectrogram = image.img_to_array(spectrogram)\n",
    "        spectrogram = preprocess_input_resnet_v2(spectrogram)\n",
    "        X_spectrograms.append(spectrogram)\n",
    "    X_spectrograms = np.array(X_spectrograms)\n",
    "\n",
    "    # Load MFCCs\n",
    "    mfcc_files = glob.glob(os.path.join(mfcc_path, '*.png'))\n",
    "    X_mfccs = []\n",
    "    for mfcc_file in mfcc_files:\n",
    "        mfcc = image.load_img(mfcc_file, target_size=(224, 224))\n",
    "        mfcc = image.img_to_array(mfcc)\n",
    "        mfcc = preprocess_input_efficientnet(mfcc)\n",
    "        X_mfccs.append(mfcc)\n",
    "    X_mfccs = np.array(X_mfccs)\n",
    "\n",
    "    return X_frames, X_spectrograms, X_mfccs\n",
    "\n",
    "def predict_ambiance(model, X_frames, X_spectrograms, X_mfccs):\n",
    "    # Make predictions using the model\n",
    "    predictions = model.predict([X_frames, X_spectrograms, X_mfccs])\n",
    "    return predictions\n"
   ]
  },
  {
   "cell_type": "code",
   "execution_count": 19,
   "metadata": {},
   "outputs": [],
   "source": [
    "# Define your model\n",
    "test_model = keras.saving.load_model(\"fusion_model.keras\")\n",
    "\n",
    "# Set paths for saving preprocessed data\n",
    "frame_path = 'output/frames'\n",
    "spectrogram_path = 'output/spectrograms'\n",
    "mfcc_path = 'output/mfccs'"
   ]
  },
  {
   "cell_type": "code",
   "execution_count": 20,
   "metadata": {},
   "outputs": [
    {
     "name": "stdout",
     "output_type": "stream",
     "text": [
      "\u001b[1m1/1\u001b[0m \u001b[32m━━━━━━━━━━━━━━━━━━━━\u001b[0m\u001b[37m\u001b[0m \u001b[1m4s\u001b[0m 4s/step\n",
      "Probability of Quiet and Calm: 3.011632609961623e-10\n",
      "Probability of Lively and Energetic: 1.765553747645754e-07\n",
      "Probability of Cozy and Intimate: 7.922142231109319e-08\n",
      "Probability of Busy and Bustling: 0.9999997615814209\n",
      "Predicted ambiance: Busy and Bustling\n"
     ]
    }
   ],
   "source": [
    "# Path to your video file\n",
    "video_path = 'samples/busy_sample.mp4'\n",
    "\n",
    "# Preprocess the video for prediction\n",
    "X_frames, X_spectrograms, X_mfccs = preprocess_video_for_prediction(video_path, frame_path, spectrogram_path, mfcc_path)\n",
    "\n",
    "# Predict ambiance\n",
    "predictions = predict_ambiance(test_model, X_frames, X_spectrograms, X_mfccs)\n",
    "\n",
    "# Display the predicted probabilities for each class\n",
    "for i, probability in enumerate(predictions[0]):\n",
    "    ambiance = CLASSES[i]\n",
    "    print(f\"Probability of {ambiance}: {probability}\")\n",
    "\n",
    "# Get the index with the highest probability\n",
    "predicted_index = np.argmax(predictions)\n",
    "# Get the predicted ambiance label\n",
    "predicted_ambiance = CLASSES[predicted_index]\n",
    "# Print the predicted ambiance label\n",
    "print(\"Predicted ambiance:\", predicted_ambiance)\n"
   ]
  },
  {
   "cell_type": "code",
   "execution_count": 26,
   "metadata": {},
   "outputs": [
    {
     "name": "stdout",
     "output_type": "stream",
     "text": [
      "\u001b[1m1/1\u001b[0m \u001b[32m━━━━━━━━━━━━━━━━━━━━\u001b[0m\u001b[37m\u001b[0m \u001b[1m0s\u001b[0m 107ms/step\n",
      "Probability of Quiet and Calm: 1.9511071869260377e-08\n",
      "Probability of Lively and Energetic: 3.5432867662166245e-06\n",
      "Probability of Cozy and Intimate: 4.757734586746665e-06\n",
      "Probability of Busy and Bustling: 0.9999916553497314\n",
      "Predicted ambiance: Busy and Bustling\n"
     ]
    }
   ],
   "source": [
    "# Path to your video file\n",
    "video_path = 'samples/busy_sample2.mp4'\n",
    "\n",
    "# Preprocess the video for prediction\n",
    "X_frames, X_spectrograms, X_mfccs = preprocess_video_for_prediction(video_path, frame_path, spectrogram_path, mfcc_path)\n",
    "\n",
    "# Predict ambiance\n",
    "predictions = predict_ambiance(test_model, X_frames, X_spectrograms, X_mfccs)\n",
    "\n",
    "# Display the predicted probabilities for each class\n",
    "for i, probability in enumerate(predictions[0]):\n",
    "    ambiance = CLASSES[i]\n",
    "    print(f\"Probability of {ambiance}: {probability}\")\n",
    "\n",
    "# Get the index with the highest probability\n",
    "predicted_index = np.argmax(predictions)\n",
    "# Get the predicted ambiance label\n",
    "predicted_ambiance = CLASSES[predicted_index]\n",
    "# Print the predicted ambiance label\n",
    "print(\"Predicted ambiance:\", predicted_ambiance)\n"
   ]
  },
  {
   "cell_type": "code",
   "execution_count": 21,
   "metadata": {},
   "outputs": [
    {
     "name": "stdout",
     "output_type": "stream",
     "text": [
      "\u001b[1m1/1\u001b[0m \u001b[32m━━━━━━━━━━━━━━━━━━━━\u001b[0m\u001b[37m\u001b[0m \u001b[1m0s\u001b[0m 108ms/step\n",
      "Probability of Quiet and Calm: 1.790672373835206e-13\n",
      "Probability of Lively and Energetic: 1.0\n",
      "Probability of Cozy and Intimate: 4.828713809637092e-17\n",
      "Probability of Busy and Bustling: 1.6381515555944498e-15\n",
      "Predicted ambiance: Lively and Energetic\n"
     ]
    }
   ],
   "source": [
    "# Path to your video file\n",
    "video_path = 'samples/lively_sample.mp4'\n",
    "\n",
    "# Preprocess the video for prediction\n",
    "X_frames, X_spectrograms, X_mfccs = preprocess_video_for_prediction(video_path, frame_path, spectrogram_path, mfcc_path)\n",
    "\n",
    "# Predict ambiance\n",
    "predictions = predict_ambiance(test_model, X_frames, X_spectrograms, X_mfccs)\n",
    "\n",
    "# Display the predicted probabilities for each class\n",
    "for i, probability in enumerate(predictions[0]):\n",
    "    ambiance = CLASSES[i]\n",
    "    print(f\"Probability of {ambiance}: {probability}\")\n",
    "\n",
    "# Get the index with the highest probability\n",
    "predicted_index = np.argmax(predictions)\n",
    "# Get the predicted ambiance label\n",
    "predicted_ambiance = CLASSES[predicted_index]\n",
    "# Print the predicted ambiance label\n",
    "print(\"Predicted ambiance:\", predicted_ambiance)\n"
   ]
  },
  {
   "cell_type": "code",
   "execution_count": 27,
   "metadata": {},
   "outputs": [
    {
     "name": "stdout",
     "output_type": "stream",
     "text": [
      "\u001b[1m1/1\u001b[0m \u001b[32m━━━━━━━━━━━━━━━━━━━━\u001b[0m\u001b[37m\u001b[0m \u001b[1m0s\u001b[0m 118ms/step\n",
      "Probability of Quiet and Calm: 8.96342624689267e-13\n",
      "Probability of Lively and Energetic: 1.0\n",
      "Probability of Cozy and Intimate: 1.0956040491071767e-13\n",
      "Probability of Busy and Bustling: 2.038661123596186e-12\n",
      "Predicted ambiance: Lively and Energetic\n"
     ]
    }
   ],
   "source": [
    "# Path to your video file\n",
    "video_path = 'samples/lively_sample2.mp4'\n",
    "\n",
    "# Preprocess the video for prediction\n",
    "X_frames, X_spectrograms, X_mfccs = preprocess_video_for_prediction(video_path, frame_path, spectrogram_path, mfcc_path)\n",
    "\n",
    "# Predict ambiance\n",
    "predictions = predict_ambiance(test_model, X_frames, X_spectrograms, X_mfccs)\n",
    "\n",
    "# Display the predicted probabilities for each class\n",
    "for i, probability in enumerate(predictions[0]):\n",
    "    ambiance = CLASSES[i]\n",
    "    print(f\"Probability of {ambiance}: {probability}\")\n",
    "\n",
    "# Get the index with the highest probability\n",
    "predicted_index = np.argmax(predictions)\n",
    "# Get the predicted ambiance label\n",
    "predicted_ambiance = CLASSES[predicted_index]\n",
    "# Print the predicted ambiance label\n",
    "print(\"Predicted ambiance:\", predicted_ambiance)\n"
   ]
  },
  {
   "cell_type": "code",
   "execution_count": 22,
   "metadata": {},
   "outputs": [
    {
     "name": "stdout",
     "output_type": "stream",
     "text": [
      "\u001b[1m1/1\u001b[0m \u001b[32m━━━━━━━━━━━━━━━━━━━━\u001b[0m\u001b[37m\u001b[0m \u001b[1m0s\u001b[0m 122ms/step\n",
      "Probability of Quiet and Calm: 5.775418117082154e-07\n",
      "Probability of Lively and Energetic: 1.6405708791467077e-08\n",
      "Probability of Cozy and Intimate: 0.9999959468841553\n",
      "Probability of Busy and Bustling: 3.4640215744730085e-06\n",
      "Predicted ambiance: Cozy and Intimate\n"
     ]
    }
   ],
   "source": [
    "# Path to your video file\n",
    "video_path = 'samples/cozy_sample.mp4'\n",
    "\n",
    "# Preprocess the video for prediction\n",
    "X_frames, X_spectrograms, X_mfccs = preprocess_video_for_prediction(video_path, frame_path, spectrogram_path, mfcc_path)\n",
    "\n",
    "# Predict ambiance\n",
    "predictions = predict_ambiance(test_model, X_frames, X_spectrograms, X_mfccs)\n",
    "\n",
    "# Display the predicted probabilities for each class\n",
    "for i, probability in enumerate(predictions[0]):\n",
    "    ambiance = CLASSES[i]\n",
    "    print(f\"Probability of {ambiance}: {probability}\")\n",
    "\n",
    "# Get the index with the highest probability\n",
    "predicted_index = np.argmax(predictions)\n",
    "# Get the predicted ambiance label\n",
    "predicted_ambiance = CLASSES[predicted_index]\n",
    "# Print the predicted ambiance label\n",
    "print(\"Predicted ambiance:\", predicted_ambiance)\n"
   ]
  },
  {
   "cell_type": "code",
   "execution_count": 25,
   "metadata": {},
   "outputs": [
    {
     "name": "stdout",
     "output_type": "stream",
     "text": [
      "\u001b[1m1/1\u001b[0m \u001b[32m━━━━━━━━━━━━━━━━━━━━\u001b[0m\u001b[37m\u001b[0m \u001b[1m0s\u001b[0m 116ms/step\n",
      "Probability of Quiet and Calm: 0.004586691968142986\n",
      "Probability of Lively and Energetic: 0.02703220024704933\n",
      "Probability of Cozy and Intimate: 0.9556114673614502\n",
      "Probability of Busy and Bustling: 0.012769603170454502\n",
      "Predicted ambiance: Cozy and Intimate\n"
     ]
    }
   ],
   "source": [
    "# Path to your video file\n",
    "video_path = 'samples/cozy_sample2.mp4'\n",
    "\n",
    "# Preprocess the video for prediction\n",
    "X_frames, X_spectrograms, X_mfccs = preprocess_video_for_prediction(video_path, frame_path, spectrogram_path, mfcc_path)\n",
    "\n",
    "# Predict ambiance\n",
    "predictions = predict_ambiance(test_model, X_frames, X_spectrograms, X_mfccs)\n",
    "\n",
    "# Display the predicted probabilities for each class\n",
    "for i, probability in enumerate(predictions[0]):\n",
    "    ambiance = CLASSES[i]\n",
    "    print(f\"Probability of {ambiance}: {probability}\")\n",
    "\n",
    "# Get the index with the highest probability\n",
    "predicted_index = np.argmax(predictions)\n",
    "# Get the predicted ambiance label\n",
    "predicted_ambiance = CLASSES[predicted_index]\n",
    "# Print the predicted ambiance label\n",
    "print(\"Predicted ambiance:\", predicted_ambiance)\n"
   ]
  },
  {
   "cell_type": "code",
   "execution_count": 23,
   "metadata": {},
   "outputs": [
    {
     "name": "stdout",
     "output_type": "stream",
     "text": [
      "\u001b[1m1/1\u001b[0m \u001b[32m━━━━━━━━━━━━━━━━━━━━\u001b[0m\u001b[37m\u001b[0m \u001b[1m0s\u001b[0m 117ms/step\n",
      "Probability of Quiet and Calm: 0.9993484616279602\n",
      "Probability of Lively and Energetic: 1.4117503610577842e-07\n",
      "Probability of Cozy and Intimate: 0.0006512542022392154\n",
      "Probability of Busy and Bustling: 1.5108651041373378e-07\n",
      "Predicted ambiance: Quiet and Calm\n"
     ]
    }
   ],
   "source": [
    "# Path to your video file\n",
    "video_path = 'samples/quiet_sample.mp4'\n",
    "\n",
    "# Preprocess the video for prediction\n",
    "X_frames, X_spectrograms, X_mfccs = preprocess_video_for_prediction(video_path, frame_path, spectrogram_path, mfcc_path)\n",
    "\n",
    "# Predict ambiance\n",
    "predictions = predict_ambiance(test_model, X_frames, X_spectrograms, X_mfccs)\n",
    "\n",
    "# Display the predicted probabilities for each class\n",
    "for i, probability in enumerate(predictions[0]):\n",
    "    ambiance = CLASSES[i]\n",
    "    print(f\"Probability of {ambiance}: {probability}\")\n",
    "\n",
    "# Get the index with the highest probability\n",
    "predicted_index = np.argmax(predictions)\n",
    "# Get the predicted ambiance label\n",
    "predicted_ambiance = CLASSES[predicted_index]\n",
    "# Print the predicted ambiance label\n",
    "print(\"Predicted ambiance:\", predicted_ambiance)\n"
   ]
  },
  {
   "cell_type": "code",
   "execution_count": 24,
   "metadata": {},
   "outputs": [
    {
     "name": "stdout",
     "output_type": "stream",
     "text": [
      "\u001b[1m1/1\u001b[0m \u001b[32m━━━━━━━━━━━━━━━━━━━━\u001b[0m\u001b[37m\u001b[0m \u001b[1m0s\u001b[0m 110ms/step\n",
      "Probability of Quiet and Calm: 0.9999220371246338\n",
      "Probability of Lively and Energetic: 7.149016596486035e-07\n",
      "Probability of Cozy and Intimate: 7.617379014845937e-05\n",
      "Probability of Busy and Bustling: 1.0336195828131167e-06\n",
      "Predicted ambiance: Quiet and Calm\n"
     ]
    }
   ],
   "source": [
    "# Path to your video file\n",
    "video_path = 'samples/quiet_sample2.mp4'\n",
    "\n",
    "# Preprocess the video for prediction\n",
    "X_frames, X_spectrograms, X_mfccs = preprocess_video_for_prediction(video_path, frame_path, spectrogram_path, mfcc_path)\n",
    "\n",
    "# Predict ambiance\n",
    "predictions = predict_ambiance(test_model, X_frames, X_spectrograms, X_mfccs)\n",
    "\n",
    "# Display the predicted probabilities for each class\n",
    "for i, probability in enumerate(predictions[0]):\n",
    "    ambiance = CLASSES[i]\n",
    "    print(f\"Probability of {ambiance}: {probability}\")\n",
    "\n",
    "# Get the index with the highest probability\n",
    "predicted_index = np.argmax(predictions)\n",
    "# Get the predicted ambiance label\n",
    "predicted_ambiance = CLASSES[predicted_index]\n",
    "# Print the predicted ambiance label\n",
    "print(\"Predicted ambiance:\", predicted_ambiance)\n"
   ]
  }
 ],
 "metadata": {
  "kernelspec": {
   "display_name": "Python 3",
   "language": "python",
   "name": "python3"
  },
  "language_info": {
   "codemirror_mode": {
    "name": "ipython",
    "version": 3
   },
   "file_extension": ".py",
   "mimetype": "text/x-python",
   "name": "python",
   "nbconvert_exporter": "python",
   "pygments_lexer": "ipython3",
   "version": "3.12.2"
  }
 },
 "nbformat": 4,
 "nbformat_minor": 2
}
